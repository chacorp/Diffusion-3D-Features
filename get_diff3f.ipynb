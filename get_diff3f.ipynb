{
 "cells": [
  {
   "cell_type": "code",
   "execution_count": 1,
   "metadata": {
    "tags": []
   },
   "outputs": [
    {
     "name": "stderr",
     "output_type": "stream",
     "text": [
      "/opt/conda/envs/saus/lib/python3.8/site-packages/transformers/utils/generic.py:311: UserWarning: torch.utils._pytree._register_pytree_node is deprecated. Please use torch.utils._pytree.register_pytree_node instead.\n",
      "  torch.utils._pytree._register_pytree_node(\n"
     ]
    }
   ],
   "source": [
    "import torch\n",
    "from diff3f import get_features_per_vertex\n",
    "%load_ext autoreload\n",
    "%autoreload 2\n",
    "from diff3f_w_tex import compute_features_from_mesh, Mesh_from_obj\n",
    "from time import time\n",
    "from utils import convert_mesh_container_to_torch_mesh, cosine_similarity, double_plot, get_colors, generate_colors\n",
    "from dataloaders.mesh_container import MeshContainer\n",
    "from diffusion import init_pipe\n",
    "from dino import init_dino\n",
    "from functional_map import compute_surface_map\n",
    "from pytorch3d.io import load_obj\n",
    "from pytorch3d.structures import Meshes\n",
    "from pytorch3d.renderer import TexturesUV\n",
    "import numpy as np\n",
    "from PIL import Image"
   ]
  },
  {
   "cell_type": "code",
   "execution_count": 2,
   "metadata": {
    "tags": []
   },
   "outputs": [],
   "source": [
    "device = torch.device('cuda:0')"
   ]
  },
  {
   "cell_type": "code",
   "execution_count": 3,
   "metadata": {
    "tags": []
   },
   "outputs": [
    {
     "name": "stderr",
     "output_type": "stream",
     "text": [
      "/opt/conda/envs/saus/lib/python3.8/site-packages/diffusers/configuration_utils.py:239: FutureWarning: It is deprecated to pass a pretrained model name or path to `from_config`.If you were trying to load a model, please use <class 'unet_2d_condition.UNet2DConditionModel'>.load_config(...) followed by <class 'unet_2d_condition.UNet2DConditionModel'>.from_config(...) instead. Otherwise, please make sure to pass a configuration dictionary instead. This functionality will be removed in v1.0.0.\n",
      "  deprecate(\"config-passed-as-path\", \"1.0.0\", deprecation_message, standard_warn=False)\n"
     ]
    },
    {
     "data": {
      "application/vnd.jupyter.widget-view+json": {
       "model_id": "9b4630ef0ba84997a30d76c5c8348eb5",
       "version_major": 2,
       "version_minor": 0
      },
      "text/plain": [
       "Loading pipeline components...:   0%|          | 0/6 [00:00<?, ?it/s]"
      ]
     },
     "metadata": {},
     "output_type": "display_data"
    },
    {
     "name": "stderr",
     "output_type": "stream",
     "text": [
      "You have disabled the safety checker for <class 'pipeline_controlnet_img2img.StableDiffusionControlNetImg2ImgPipeline'> by passing `safety_checker=None`. Ensure that you abide to the conditions of the Stable Diffusion license and do not expose unfiltered results in services or applications open to the public. Both the diffusers team and Hugging Face strongly recommend to keep the safety filter enabled in all public facing circumstances, disabling it only for use-cases that involve analyzing network behavior or auditing its results. For more information, please have a look at https://github.com/huggingface/diffusers/pull/254 .\n",
      "Using cache found in /root/.cache/torch/hub/facebookresearch_dinov2_main\n",
      "/root/.cache/torch/hub/facebookresearch_dinov2_main/dinov2/layers/swiglu_ffn.py:51: UserWarning: xFormers is not available (SwiGLU)\n",
      "  warnings.warn(\"xFormers is not available (SwiGLU)\")\n",
      "/root/.cache/torch/hub/facebookresearch_dinov2_main/dinov2/layers/attention.py:33: UserWarning: xFormers is not available (Attention)\n",
      "  warnings.warn(\"xFormers is not available (Attention)\")\n",
      "/root/.cache/torch/hub/facebookresearch_dinov2_main/dinov2/layers/block.py:40: UserWarning: xFormers is not available (Block)\n",
      "  warnings.warn(\"xFormers is not available (Block)\")\n"
     ]
    }
   ],
   "source": [
    "pipe = init_pipe(device)\n",
    "dino_model = init_dino(device)"
   ]
  },
  {
   "cell_type": "code",
   "execution_count": 4,
   "metadata": {},
   "outputs": [],
   "source": [
    "torch.cuda.empty_cache()"
   ]
  },
  {
   "cell_type": "markdown",
   "metadata": {},
   "source": [
    "# test"
   ]
  },
  {
   "cell_type": "code",
   "execution_count": 5,
   "metadata": {},
   "outputs": [
    {
     "name": "stderr",
     "output_type": "stream",
     "text": [
      "/opt/conda/envs/saus/lib/python3.8/site-packages/pytorch3d/io/obj_io.py:550: UserWarning: Mtl file does not exist: /source/sihun/SAUS_prev/Diffusion-3D-Features/rp/rp_carla_rigged_001.mtl\n",
      "  warnings.warn(f\"Mtl file does not exist: {f}\")\n"
     ]
    },
    {
     "name": "stdout",
     "output_type": "stream",
     "text": [
      "num mesh_vertices:  10067\n",
      "35000\n",
      "Rendering complete\n"
     ]
    },
    {
     "name": "stderr",
     "output_type": "stream",
     "text": [
      "/opt/conda/envs/saus/lib/python3.8/site-packages/torch/functional.py:512: UserWarning: torch.meshgrid: in an upcoming release, it will be required to pass the indexing argument. (Triggered internally at /opt/conda/conda-bld/pytorch_1716905975447/work/aten/src/ATen/native/TensorShape.cpp:3587.)\n",
      "  return _VF.meshgrid(tensors, **kwargs)  # type: ignore[attr-defined]\n",
      "100%|██████████| 100/100 [08:50<00:00,  5.30s/it]"
     ]
    },
    {
     "name": "stdout",
     "output_type": "stream",
     "text": [
      "Number of missing features:  1178\n",
      "Copied features from nearest vertices\n",
      "Time taken in mins:  9.547118151187897\n"
     ]
    },
    {
     "name": "stderr",
     "output_type": "stream",
     "text": [
      "\n"
     ]
    }
   ],
   "source": [
    "rp_obj_path = \"/source/sihun/SAUS_prev/Diffusion-3D-Features/rp/rp_carla_rigged_001.obj\"\n",
    "rp_tex_path = \"/source/sihun/SAUS_prev/Diffusion-3D-Features/rp/rp_carla_rigged_001_mask.jpg\"\n",
    "f_target = compute_features_from_mesh(device, pipe, dino_model, rp_obj_path, rp_tex_path, \"a person posed\",use_tex=True)"
   ]
  },
  {
   "cell_type": "code",
   "execution_count": 6,
   "metadata": {},
   "outputs": [],
   "source": [
    "torch.save(f_target, 'diff3f_rp.pt')"
   ]
  },
  {
   "cell_type": "code",
   "execution_count": 7,
   "metadata": {},
   "outputs": [
    {
     "name": "stderr",
     "output_type": "stream",
     "text": [
      "/opt/conda/envs/saus/lib/python3.8/site-packages/pytorch3d/io/obj_io.py:550: UserWarning: Mtl file does not exist: /source/sihun/SAUS_prev/Diffusion-3D-Features/smpl/smpl_mesh_1.mtl\n",
      "  warnings.warn(f\"Mtl file does not exist: {f}\")\n"
     ]
    },
    {
     "name": "stdout",
     "output_type": "stream",
     "text": [
      "num mesh_vertices:  6890\n",
      "35000\n",
      "Rendering complete\n"
     ]
    },
    {
     "name": "stderr",
     "output_type": "stream",
     "text": [
      "100%|██████████| 100/100 [08:48<00:00,  5.29s/it]"
     ]
    },
    {
     "name": "stdout",
     "output_type": "stream",
     "text": [
      "Number of missing features:  41\n",
      "Copied features from nearest vertices\n",
      "Time taken in mins:  9.295297384262085\n"
     ]
    },
    {
     "name": "stderr",
     "output_type": "stream",
     "text": [
      "\n"
     ]
    }
   ],
   "source": [
    "smpl_obj_path = \"/source/sihun/SAUS_prev/Diffusion-3D-Features/smpl/smpl_mesh_1.obj\"\n",
    "smpl_tex_path = \"/source/sihun/SAUS_prev/Diffusion-3D-Features/smpl/SMPL_sampleTex_m.jpg\"\n",
    "f_source = compute_features_from_mesh(device, pipe, dino_model, smpl_obj_path, smpl_tex_path, \"a person posed\",use_tex=True)\n",
    "torch.save(f_source, 'diff3f_smpl.pt')"
   ]
  },
  {
   "cell_type": "code",
   "execution_count": 8,
   "metadata": {},
   "outputs": [],
   "source": [
    "#f_target.shape\n",
    "# torch.save(f_target, 'rp_diff3f.pt')\n",
    "f_source=torch.load('smpl_diff3f.pt')\n",
    "# f_source=torch.load('smpl_diff3f.pt')\n",
    "# f_source.shape"
   ]
  },
  {
   "cell_type": "code",
   "execution_count": 42,
   "metadata": {},
   "outputs": [],
   "source": [
    "source_mesh = MeshContainer().load_from_file(smpl_obj_path)\n",
    "#target_mesh = MeshContainer().load_from_file(rp_obj_path)\n",
    "mesh = Mesh_from_obj(rp_obj_path, rp_tex_path, device=device)\n",
    "target_mesh = MeshContainer(mesh.verts_list()[0], mesh._faces_list[0])"
   ]
  },
  {
   "cell_type": "code",
   "execution_count": 43,
   "metadata": {},
   "outputs": [
    {
     "data": {
      "application/vnd.jupyter.widget-view+json": {
       "model_id": "de965c44e30f47b5aa629a9c653acce0",
       "version_major": 2,
       "version_minor": 0
      },
      "text/plain": [
       "HBox(children=(Output(), Output()))"
      ]
     },
     "metadata": {},
     "output_type": "display_data"
    },
    {
     "data": {
      "application/vnd.jupyter.widget-view+json": {
       "model_id": "dc9f675348024b00bc93f4dc441e3b37",
       "version_major": 2,
       "version_minor": 0
      },
      "text/plain": [
       "HBox(children=(Output(), Output()))"
      ]
     },
     "metadata": {},
     "output_type": "display_data"
    }
   ],
   "source": [
    "s = cosine_similarity(f_source.to(device),f_target.to(device))\n",
    "s = torch.argmax(s, dim=0).cpu().numpy()\n",
    "cmap_source = get_colors(source_mesh.vert)\n",
    "cmap_target = cmap_source[s]\n",
    "# s = cosine_similarity(f_target.to(device),f_source.to(device))\n",
    "# s = torch.argmax(s, dim=0).cpu().numpy()\n",
    "# cmap_target = get_colors(target_mesh.vert)\n",
    "# cmap_source = cmap_target[s]\n",
    "double_plot(source_mesh,target_mesh,cmap_source,cmap_target)"
   ]
  },
  {
   "cell_type": "code",
   "execution_count": 32,
   "metadata": {},
   "outputs": [
    {
     "name": "stdout",
     "output_type": "stream",
     "text": [
      "Invalid color array given! Supported are numpy arrays. <class 'numpy.ndarray'>\n"
     ]
    }
   ],
   "source": [
    "import meshplot as mp\n",
    "cmap1,cmap2=cmap_source,cmap_target\n",
    "# d = mp.subplot(source_mesh.vert, source_mesh.face, c=cmap1, s=[2, 2, 0])\n",
    "mp.subplot(target_mesh.vert, target_mesh.face, c=cmap2, s=[2, 2, 1], data=d)"
   ]
  },
  {
   "cell_type": "code",
   "execution_count": 34,
   "metadata": {},
   "outputs": [
    {
     "data": {
      "text/plain": [
       "(19988, 3)"
      ]
     },
     "execution_count": 34,
     "metadata": {},
     "output_type": "execute_result"
    }
   ],
   "source": [
    "target_mesh.face.shape"
   ]
  },
  {
   "cell_type": "code",
   "execution_count": 26,
   "metadata": {},
   "outputs": [
    {
     "name": "stdout",
     "output_type": "stream",
     "text": [
      "(6890, 3) (11586, 3)\n"
     ]
    }
   ],
   "source": [
    "print(cmap_source.shape, cmap_target.shape)"
   ]
  },
  {
   "cell_type": "code",
   "execution_count": 27,
   "metadata": {},
   "outputs": [
    {
     "name": "stdout",
     "output_type": "stream",
     "text": [
      "(6890, 3) (10067, 3)\n"
     ]
    }
   ],
   "source": [
    "s = cosine_similarity(f_source.to(device),f_target.to(device))\n",
    "s = torch.argmax(s, dim=0).cpu().numpy()\n",
    "cmap_source = get_colors(source_mesh.vert)\n",
    "cmap_target = cmap_source[s]\n",
    "print(cmap_source.shape, cmap_target.shape)"
   ]
  },
  {
   "cell_type": "code",
   "execution_count": 17,
   "metadata": {},
   "outputs": [
    {
     "data": {
      "text/plain": [
       "0.9982150862894396"
      ]
     },
     "execution_count": 17,
     "metadata": {},
     "output_type": "execute_result"
    }
   ],
   "source": [
    "cmap_target.max()"
   ]
  },
  {
   "cell_type": "code",
   "execution_count": 16,
   "metadata": {},
   "outputs": [
    {
     "data": {
      "text/plain": [
       "1.0"
      ]
     },
     "execution_count": 16,
     "metadata": {},
     "output_type": "execute_result"
    }
   ],
   "source": [
    "cmap_source.max()"
   ]
  },
  {
   "cell_type": "code",
   "execution_count": 14,
   "metadata": {},
   "outputs": [],
   "source": [
    "rp_obj_path = \"/source/sihun/SAUS_prev/Diffusion-3D-Features/rp/rp_carla_rigged_001.obj\"\n",
    "rp_tex_path = \"/source/sihun/SAUS_prev/Diffusion-3D-Features/rp/rp_carla_rigged_001_mask.jpg\"\n",
    "f_target = compute_features_from_mesh(device, pipe, dino_model, rp_obj_path, rp_tex_path, \"a person posed\",use_tex=False)\n",
    "\n",
    "smpl_obj_path = \"/source/sihun/SAUS_prev/Diffusion-3D-Features/smpl/smpl_mesh_1.obj\"\n",
    "smpl_tex_path = \"/source/sihun/SAUS_prev/Diffusion-3D-Features/smpl/SMPL_sampleTex_m.jpg\"\n",
    "f_source = compute_features_from_mesh(device, pipe, dino_model, smpl_obj_path, smpl_tex_path, \"a person posed\",use_tex=False)\n",
    "\n",
    "source_mesh = MeshContainer().load_from_file(smpl_obj_path)\n",
    "target_mesh = MeshContainer().load_from_file(rp_obj_path)\n",
    "\n",
    "# s = cosine_similarity(f_source.to(device),f_target.to(device))\n",
    "# s = torch.argmax(s, dim=0).cpu().numpy()\n",
    "# cmap_source = get_colors(source_mesh.vert)\n",
    "# cmap_target = cmap_source[s]\n",
    "s = cosine_similarity(f_target.to(device),f_source.to(device))\n",
    "s = torch.argmax(s, dim=0).cpu().numpy()\n",
    "cmap_target = get_colors(target_mesh.vert)\n",
    "cmap_source = cmap_target[s]\n",
    "double_plot(source_mesh,target_mesh,cmap_source,cmap_target)"
   ]
  },
  {
   "cell_type": "code",
   "execution_count": 15,
   "metadata": {},
   "outputs": [
    {
     "data": {
      "text/plain": [
       "tensor([[ 0.0478,  1.7285,  0.0937],\n",
       "        [ 0.0426,  1.7161,  0.1040],\n",
       "        [ 0.0534,  1.7107,  0.0953],\n",
       "        ...,\n",
       "        [-0.0761,  1.6600,  0.0063],\n",
       "        [-0.0768,  1.6613,  0.0084],\n",
       "        [-0.0793,  1.6595,  0.0112]], device='cuda:0')"
      ]
     },
     "execution_count": 15,
     "metadata": {},
     "output_type": "execute_result"
    }
   ],
   "source": [
    "mesh_vertices"
   ]
  },
  {
   "cell_type": "code",
   "execution_count": 21,
   "metadata": {},
   "outputs": [
    {
     "name": "stdout",
     "output_type": "stream",
     "text": [
      "Rendering complete\n"
     ]
    }
   ],
   "source": [
    "\n",
    "t1 = time()\n",
    "if mesh_vertices is None:\n",
    "    mesh_vertices = mesh.verts_list()[0]\n",
    "if len(mesh_vertices) > VERTEX_GPU_LIMIT:\n",
    "    samples = random.sample(range(len(mesh_vertices)), 10000)\n",
    "    maximal_distance = torch.cdist(mesh_vertices[samples], mesh_vertices[samples]).max()\n",
    "else:\n",
    "    maximal_distance = torch.cdist(mesh_vertices, mesh_vertices).max()  # .cpu()\n",
    "ball_drop_radius = maximal_distance * tolerance\n",
    "batched_renderings, normal_batched_renderings, camera, depth = batch_render(\n",
    "    device, mesh, mesh.verts_list()[0], num_views, H, W, use_normal_map\n",
    ")\n",
    "print(\"Rendering complete\")"
   ]
  },
  {
   "cell_type": "code",
   "execution_count": 60,
   "metadata": {},
   "outputs": [
    {
     "name": "stderr",
     "output_type": "stream",
     "text": [
      "Clipping input data to the valid range for imshow with RGB data ([0..1] for floats or [0..255] for integers).\n"
     ]
    },
    {
     "name": "stdout",
     "output_type": "stream",
     "text": [
      "torch.Size([100, 512, 512, 4])\n",
      "tensor(0.)\n",
      "tensor(1.1094)\n"
     ]
    },
    {
     "data": {
      "text/plain": [
       "<matplotlib.image.AxesImage at 0x7f86a2571fa0>"
      ]
     },
     "execution_count": 60,
     "metadata": {},
     "output_type": "execute_result"
    },
    {
     "data": {
      "image/png": "[encoded data removed]",
      "text/plain": [
       "<Figure size 640x480 with 1 Axes>"
      ]
     },
     "metadata": {},
     "output_type": "display_data"
    }
   ],
   "source": [
    "print(batched_renderings.shape)\n",
    "print(batched_renderings.min())\n",
    "print(batched_renderings.max())\n",
    "plt.imshow(batched_renderings[0].detach().cpu().numpy())"
   ]
  },
  {
   "cell_type": "code",
   "execution_count": 29,
   "metadata": {},
   "outputs": [],
   "source": [
    "if use_normal_map:\n",
    "    normal_batched_renderings = normal_batched_renderings.cpu()\n",
    "batched_renderings = batched_renderings.cpu()\n",
    "pixel_coords = arange_pixels((H, W), invert_y_axis=True)[0]\n",
    "pixel_coords[:, 0] = torch.flip(pixel_coords[:, 0], dims=[0])\n",
    "grid = arange_pixels((H, W), invert_y_axis=False)[0].to(device).reshape(1, H, W, 2).half()\n",
    "camera = camera.cpu()\n",
    "normal_map_input = None\n",
    "depth = depth.cpu()\n",
    "torch.cuda.empty_cache()\n",
    "ft_per_vertex = torch.zeros((len(mesh_vertices), FEATURE_DIMS)).half()  # .to(device)\n",
    "ft_per_vertex_count = torch.zeros((len(mesh_vertices), 1)).half()  # .to(device)"
   ]
  },
  {
   "cell_type": "code",
   "execution_count": 30,
   "metadata": {},
   "outputs": [],
   "source": [
    "idx = 0\n",
    "dp = depth[idx].flatten().unsqueeze(1)\n",
    "xy_depth = torch.cat((pixel_coords, dp), dim=1)\n",
    "indices = xy_depth[:, 2] != -1\n",
    "xy_depth = xy_depth[indices]\n",
    "world_coords = (\n",
    "    camera[idx].unproject_points(\n",
    "        xy_depth, world_coordinates=True, from_ndc=True\n",
    "    )  # .cpu()\n",
    ").to(device)\n",
    "diffusion_input_img = (\n",
    "    batched_renderings[idx, :, :, :3].cpu().numpy() * 255\n",
    ").astype(np.uint8)\n",
    "if use_normal_map:\n",
    "    normal_map_input = normal_batched_renderings[idx]\n",
    "depth_map = depth[idx, :, :, 0].unsqueeze(0).to(device)\n",
    "if prompts_list is not None:\n",
    "    prompt = random.choice(prompts_list)\n",
    "diffusion_output = add_texture_to_render(\n",
    "    pipe,\n",
    "    diffusion_input_img,\n",
    "    depth_map,\n",
    "    prompt,\n",
    "    normal_map_input=normal_map_input,\n",
    "    use_latent=use_latent,\n",
    "    num_images_per_prompt=num_images_per_prompt,\n",
    "    return_image=return_image\n",
    ")"
   ]
  },
  {
   "cell_type": "code",
   "execution_count": 113,
   "metadata": {},
   "outputs": [
    {
     "data": {
      "text/plain": [
       "(512, 512, 3)"
      ]
     },
     "execution_count": 113,
     "metadata": {},
     "output_type": "execute_result"
    }
   ],
   "source": [
    "diffusion_input_img.shape"
   ]
  },
  {
   "cell_type": "code",
   "execution_count": 62,
   "metadata": {},
   "outputs": [
    {
     "name": "stdout",
     "output_type": "stream",
     "text": [
      "torch.Size([512, 512, 3])\n",
      "tensor(0.0227)\n",
      "tensor(1.1094)\n"
     ]
    },
    {
     "data": {
      "text/plain": [
       "torch.Size([1, 768, 262144])"
      ]
     },
     "execution_count": 62,
     "metadata": {},
     "output_type": "execute_result"
    }
   ],
   "source": [
    "print(batched_renderings[idx, :, :, :3].shape)\n",
    "print(batched_renderings[idx, :, :, :3].min())\n",
    "print(batched_renderings[idx, :, :, :3].max())\n",
    "pil_b_rnd = ToPILImage()(batched_renderings[idx, :, :, :3].permute(2,0,1))\n",
    "aligned_dino_features = get_dino_features(device, dino_model, pil_b_rnd, grid)\n",
    "aligned_dino_features.shape"
   ]
  },
  {
   "cell_type": "code",
   "execution_count": 32,
   "metadata": {},
   "outputs": [
    {
     "name": "stdout",
     "output_type": "stream",
     "text": [
      "2\n",
      "torch.Size([1280, 32, 32])\n",
      "(32, 32, 1)\n",
      "tensor(0.7681, device='cuda:0', dtype=torch.float16)\n",
      "tensor(0.7793, device='cuda:0', dtype=torch.float16)\n",
      "1\n",
      "(512, 512)\n"
     ]
    },
    {
     "data": {
      "text/plain": [
       "<matplotlib.image.AxesImage at 0x7f869813fc70>"
      ]
     },
     "execution_count": 32,
     "metadata": {},
     "output_type": "execute_result"
    },
    {
     "data": {
      "image/png": "[encoded data removed]",
      "text/plain": [
       "<Figure size 640x480 with 1 Axes>"
      ]
     },
     "metadata": {},
     "output_type": "display_data"
    }
   ],
   "source": [
    "print(len(diffusion_output))\n",
    "print(diffusion_output[0].shape)\n",
    "print(diffusion_output[0][0][None].cpu().numpy().transpose(1,2,0).shape)\n",
    "print(diffusion_output[0][0].max())\n",
    "print(diffusion_output[0][1].max())\n",
    "# plt.imshow(diffusion_output[0][0][None].cpu().numpy().transpose(1,2,0))\n",
    "\n",
    "print(len(diffusion_output[1]))\n",
    "print(diffusion_output[1][0].shape)\n",
    "plt.imshow(diffusion_output[1][0])"
   ]
  },
  {
   "cell_type": "code",
   "execution_count": null,
   "metadata": {},
   "outputs": [],
   "source": [
    "\n",
    "for idx in tqdm(range(len(batched_renderings))):\n",
    "    dp = depth[idx].flatten().unsqueeze(1)\n",
    "    xy_depth = torch.cat((pixel_coords, dp), dim=1)\n",
    "    indices = xy_depth[:, 2] != -1\n",
    "    xy_depth = xy_depth[indices]\n",
    "    world_coords = (\n",
    "        camera[idx].unproject_points(\n",
    "            xy_depth, world_coordinates=True, from_ndc=True\n",
    "        )  # .cpu()\n",
    "    ).to(device)\n",
    "    diffusion_input_img = (\n",
    "        batched_renderings[idx, :, :, :3].cpu().numpy() * 255\n",
    "    ).astype(np.uint8)\n",
    "    if use_normal_map:\n",
    "        normal_map_input = normal_batched_renderings[idx]\n",
    "    depth_map = depth[idx, :, :, 0].unsqueeze(0).to(device)\n",
    "    if prompts_list is not None:\n",
    "        prompt = random.choice(prompts_list)\n",
    "    diffusion_output = add_texture_to_render(\n",
    "        pipe,\n",
    "        diffusion_input_img,\n",
    "        depth_map,\n",
    "        prompt,\n",
    "        normal_map_input=normal_map_input,\n",
    "        use_latent=use_latent,\n",
    "        num_images_per_prompt=num_images_per_prompt,\n",
    "        return_image=return_image\n",
    "    )\n",
    "    aligned_dino_features = get_dino_features(device, dino_model, diffusion_output[1][0], grid)\n",
    "    aligned_features = None\n",
    "    with torch.no_grad():\n",
    "        ft = torch.nn.Upsample(size=(H,W), mode=\"bilinear\")(diffusion_output[0].unsqueeze(0)).to(device)\n",
    "        ft_dim = ft.size(1)\n",
    "        aligned_features = torch.nn.functional.grid_sample(\n",
    "            ft, grid, align_corners=False\n",
    "        ).reshape(1, ft_dim, -1)\n",
    "        aligned_features = torch.nn.functional.normalize(aligned_features, dim=1)\n",
    "    # this is feature per pixel in the grid\n",
    "    aligned_features = torch.hstack([aligned_features*0.5, aligned_dino_features*0.5])\n",
    "    features_per_pixel = aligned_features[0, :, indices].cpu()\n",
    "    # map pixel to vertex on mesh\n",
    "    if bq:\n",
    "        queried_indices = (\n",
    "            ball_query(\n",
    "                world_coords.unsqueeze(0),\n",
    "                mesh_vertices.unsqueeze(0),\n",
    "                K=100,\n",
    "                radius=ball_drop_radius,\n",
    "                return_nn=False,\n",
    "            )\n",
    "            .idx[0]\n",
    "            .cpu()\n",
    "        )\n",
    "        mask = queried_indices != -1\n",
    "        repeat = mask.sum(dim=1)\n",
    "        ft_per_vertex_count[queried_indices[mask]] += 1\n",
    "        ft_per_vertex[queried_indices[mask]] += features_per_pixel.repeat_interleave(\n",
    "            repeat, dim=1\n",
    "        ).T\n",
    "    else:\n",
    "        distances = torch.cdist(\n",
    "        world_coords, mesh_vertices, p=2\n",
    "        )\n",
    "        closest_vertex_indices = torch.argmin(distances, dim=1).cpu()\n",
    "        ft_per_vertex[closest_vertex_indices] += features_per_pixel.T\n",
    "        ft_per_vertex_count[closest_vertex_indices] += 1\n",
    "\n",
    "idxs = (ft_per_vertex_count != 0)[:, 0]\n",
    "ft_per_vertex[idxs, :] = ft_per_vertex[idxs, :] / ft_per_vertex_count[idxs, :]\n",
    "missing_features = len(ft_per_vertex_count[ft_per_vertex_count == 0])\n",
    "print(\"Number of missing features: \", missing_features)\n",
    "print(\"Copied features from nearest vertices\")\n",
    "\n",
    "if missing_features > 0:\n",
    "    filled_indices = ft_per_vertex_count[:, 0] != 0\n",
    "    missing_indices = ft_per_vertex_count[:, 0] == 0\n",
    "    distances = torch.cdist(\n",
    "        mesh_vertices[missing_indices], mesh_vertices[filled_indices], p=2\n",
    "    )\n",
    "    closest_vertex_indices = torch.argmin(distances, dim=1).cpu()\n",
    "    ft_per_vertex[missing_indices, :] = ft_per_vertex[filled_indices][\n",
    "        closest_vertex_indices, :\n",
    "    ]\n",
    "t2 = time() - t1\n",
    "t2 = t2 / 60\n",
    "print(\"Time taken in mins: \", t2)\n",
    "return ft_per_vertex\n"
   ]
  }
 ],
 "metadata": {
  "kernelspec": {
   "display_name": "saus",
   "language": "python",
   "name": "saus"
  },
  "language_info": {
   "codemirror_mode": {
    "name": "ipython",
    "version": 3
   },
   "file_extension": ".py",
   "mimetype": "text/x-python",
   "name": "python",
   "nbconvert_exporter": "python",
   "pygments_lexer": "ipython3",
   "version": "3.8.19"
  }
 },
 "nbformat": 4,
 "nbformat_minor": 4
}
